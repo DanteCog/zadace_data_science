{
 "cells": [
  {
   "cell_type": "markdown",
   "id": "30e9ce05",
   "metadata": {},
   "source": [
    "# Laboratory exercise 4\n",
    "\n",
    "In this laboratory exercise you will use the questionnaire and answers given below"
   ]
  },
  {
   "cell_type": "code",
   "execution_count": null,
   "id": "d6820020",
   "metadata": {},
   "outputs": [],
   "source": [
    "import pandas as pd"
   ]
  },
  {
   "cell_type": "code",
   "execution_count": null,
   "id": "c53f916c",
   "metadata": {},
   "outputs": [],
   "source": [
    "questionnaire = pd.DataFrame({'Q1': [1, 2, 2, 3, 2, 2, 3, 3, 2, 3],\n",
    "                              'Q2': [1, 1, 1, 2, 3, 3, 2, 3, 3, 3],\n",
    "                              'Q3': [1, 1, 2, 1, 2, 3, 3, 3, 2, 3]})"
   ]
  },
  {
   "cell_type": "markdown",
   "id": "ce36a49d",
   "metadata": {},
   "source": [
    "1. Write a function to detrmine the realiability of the questionnaire answers with Cronbach's Alpha."
   ]
  },
  {
   "cell_type": "code",
   "execution_count": 2,
   "id": "f293f5d9",
   "metadata": {},
   "outputs": [
    {
     "ename": "SyntaxError",
     "evalue": "invalid syntax (3002731099.py, line 1)",
     "output_type": "error",
     "traceback": [
      "\u001b[1;36m  Cell \u001b[1;32mIn[2], line 1\u001b[1;36m\u001b[0m\n\u001b[1;33m    pip install pingouin\u001b[0m\n\u001b[1;37m        ^\u001b[0m\n\u001b[1;31mSyntaxError\u001b[0m\u001b[1;31m:\u001b[0m invalid syntax\n"
     ]
    }
   ],
   "source": [
    "\n",
    "from pingouin import cronbach_alpha\n",
    "def calculate_cronbach_alpha(data):\n",
    "    cronbach_alpha_value, _ = cronbach_alpha(data)\n",
    "    return cronbach_alpha_value\n",
    "alpha_value = calculate_cronbach_alpha(questionnaire)\n",
    "print(\"Cronbach's Alpha:\", alpha_value)"
   ]
  },
  {
   "cell_type": "markdown",
   "id": "69cb9d0a",
   "metadata": {},
   "source": [
    "2. Explain the differences between in-house data labeling, crowdsourcing and outsourcing. "
   ]
  },
  {
   "cell_type": "markdown",
   "id": "4e95fa5a",
   "metadata": {},
   "source": [
    "IN HOUSE DATA LABELING - they are usually marked by scientists or people in the organization (they can\n",
    "also be part-time employees / people for whom data marking is not in the job\n",
    "description), correct labeling is essential in, for example, insurance or healthcare often requires consulting with experts in the field to correctly label the data, the whole process is very slow\n",
    "CROWDSOURCING -we are solving problmes with the help of a large number of people, freelancers...  registered on the\n",
    "crowdsourcing platform (they have tens of thousands of registered data annotators) annotated datasets mostly consist of trivial data, e.g. images of animals, plants and natural environments, and do not require additional expertise\n",
    "OUTSOURCING - a middle ground between crowdsourcing and in-house labeling the task of annotating data is left to an individual or organization that has trained annotators one of the advantages of outsourcing to individuals is that they can be\n",
    "evaluated on a particular topic before the work is handed over to them for projects that do not have a lot of funding, but require significant quality data marking"
   ]
  },
  {
   "cell_type": "markdown",
   "id": "ce3d3e91",
   "metadata": {},
   "source": [
    "3. Explain the main differences between annotation for image classification, object detection and image segmentation."
   ]
  },
  {
   "cell_type": "markdown",
   "id": "aadc15ae",
   "metadata": {},
   "source": [
    "IMAGE CLASSIFICATION - adding a tag to an image, the number of unique tags in the entire database is the number of\n",
    "classes that the model can classify ,the classification problem can be divided into:\n",
    "• Binary classification (consisting of only two labels)\n",
    "• Multi-class classification (containing several labels)\n",
    "• classification with multiple tags is also possible,e.g. when detecting diseases → each imagehas more than one tag\n",
    "OBJECT DETECTION - \n",
    "• detection of objects and their locations\n",
    "• each object is marked with the smallest possible rectangle that\n",
    "surrounds it (bounding box)\n",
    "• usually a label is attached to each rectangle\n",
    "• the coordinates of the rectangle and thecorresponding label are remembered and stored in a JSON file in dictionary format\n",
    "where the key of the dictionary is the number or ID of the image\n",
    "IMAGE SEGMENTATION - separate image objects from their background and other objects in\n",
    "the image → usually result in images of the same size as the original image, containing 1 where the object is present and 0 otherwise\n",
    "• if several objects are segmented within one image, each object is marked on a separate channel → the sum of all channels is the reference image"
   ]
  }
 ],
 "metadata": {
  "kernelspec": {
   "display_name": "Python 3 (ipykernel)",
   "language": "python",
   "name": "python3"
  },
  "language_info": {
   "codemirror_mode": {
    "name": "ipython",
    "version": 3
   },
   "file_extension": ".py",
   "mimetype": "text/x-python",
   "name": "python",
   "nbconvert_exporter": "python",
   "pygments_lexer": "ipython3",
   "version": "3.11.5"
  }
 },
 "nbformat": 4,
 "nbformat_minor": 5
}
