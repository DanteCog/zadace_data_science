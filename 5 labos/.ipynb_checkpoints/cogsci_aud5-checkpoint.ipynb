{
 "cells": [
  {
   "cell_type": "markdown",
   "id": "4fb79def",
   "metadata": {},
   "source": [
    "## CSV\n",
    "A CSV (Comma Separated Values) file is a text file in which a comma is used to separate values. Each line in the file represents a new record. The record consists of several fields separated by commas. The first line is often used to specify field names that are also comma separated. CSV files are a simple way to write structured data and are therefore often used in practice.\n",
    "\n",
    "This exercise uses the sample file `data / estonia.csv` which is loaded using the` read_csv` function using the `pandas` library. Additional options for this feature may be available at [https://pandas.pydata.org/pandas-docs/stable/reference/api/pandas.read_csv.html](https://pandas.pydata.org/pandas-docs/stable/reference/api/pandas.read_csv.html).\n",
    "\n",
    "### Take note, in some exercises there are different types of solving the same exercise in different cells."
   ]
  },
  {
   "cell_type": "code",
   "execution_count": 36,
   "id": "43371ed5",
   "metadata": {},
   "outputs": [],
   "source": [
    "import pandas as pd\n",
    "import numpy as np"
   ]
  },
  {
   "cell_type": "code",
   "execution_count": 73,
   "id": "d7abd765",
   "metadata": {},
   "outputs": [],
   "source": [
    "df = pd.read_csv(\"estonia.csv\", sep = \",\")"
   ]
  },
  {
   "cell_type": "markdown",
   "id": "124632d6",
   "metadata": {},
   "source": [
    "What is the size of the dataframe 'estonia'?"
   ]
  },
  {
   "cell_type": "code",
   "execution_count": 38,
   "id": "024246d0",
   "metadata": {},
   "outputs": [
    {
     "data": {
      "text/plain": [
       "(742, 8)"
      ]
     },
     "execution_count": 38,
     "metadata": {},
     "output_type": "execute_result"
    }
   ],
   "source": [
    "df.shape"
   ]
  },
  {
   "cell_type": "markdown",
   "id": "b49a03be",
   "metadata": {},
   "source": [
    "What are the names of the columns of the dataset?"
   ]
  },
  {
   "cell_type": "code",
   "execution_count": 39,
   "id": "e748faf0",
   "metadata": {},
   "outputs": [
    {
     "data": {
      "text/plain": [
       "array(['PassengerId', 'Country', 'Firstname', 'Lastname', 'Sex', 'Age',\n",
       "       'Category', 'Survived'], dtype=object)"
      ]
     },
     "execution_count": 39,
     "metadata": {},
     "output_type": "execute_result"
    }
   ],
   "source": [
    "df.columns.values"
   ]
  },
  {
   "cell_type": "markdown",
   "id": "6d5f43e2",
   "metadata": {},
   "source": [
    "# Manipulating Pandas DataFrame data"
   ]
  },
  {
   "cell_type": "markdown",
   "id": "03c077cb",
   "metadata": {},
   "source": [
    "Select columns 'Sex' and 'Age'."
   ]
  },
  {
   "cell_type": "code",
   "execution_count": 40,
   "id": "058dc1aa",
   "metadata": {},
   "outputs": [
    {
     "data": {
      "text/html": [
       "<div>\n",
       "<style scoped>\n",
       "    .dataframe tbody tr th:only-of-type {\n",
       "        vertical-align: middle;\n",
       "    }\n",
       "\n",
       "    .dataframe tbody tr th {\n",
       "        vertical-align: top;\n",
       "    }\n",
       "\n",
       "    .dataframe thead th {\n",
       "        text-align: right;\n",
       "    }\n",
       "</style>\n",
       "<table border=\"1\" class=\"dataframe\">\n",
       "  <thead>\n",
       "    <tr style=\"text-align: right;\">\n",
       "      <th></th>\n",
       "      <th>Sex</th>\n",
       "      <th>Age</th>\n",
       "    </tr>\n",
       "  </thead>\n",
       "  <tbody>\n",
       "    <tr>\n",
       "      <th>0</th>\n",
       "      <td>M</td>\n",
       "      <td>35.0</td>\n",
       "    </tr>\n",
       "    <tr>\n",
       "      <th>1</th>\n",
       "      <td>F</td>\n",
       "      <td>39.0</td>\n",
       "    </tr>\n",
       "    <tr>\n",
       "      <th>2</th>\n",
       "      <td>F</td>\n",
       "      <td>58.0</td>\n",
       "    </tr>\n",
       "    <tr>\n",
       "      <th>3</th>\n",
       "      <td>F</td>\n",
       "      <td>67.0</td>\n",
       "    </tr>\n",
       "    <tr>\n",
       "      <th>4</th>\n",
       "      <td>F</td>\n",
       "      <td>48.0</td>\n",
       "    </tr>\n",
       "    <tr>\n",
       "      <th>...</th>\n",
       "      <td>...</td>\n",
       "      <td>...</td>\n",
       "    </tr>\n",
       "    <tr>\n",
       "      <th>737</th>\n",
       "      <td>M</td>\n",
       "      <td>55.0</td>\n",
       "    </tr>\n",
       "    <tr>\n",
       "      <th>738</th>\n",
       "      <td>M</td>\n",
       "      <td>20.0</td>\n",
       "    </tr>\n",
       "    <tr>\n",
       "      <th>739</th>\n",
       "      <td>F</td>\n",
       "      <td>61.0</td>\n",
       "    </tr>\n",
       "    <tr>\n",
       "      <th>740</th>\n",
       "      <td>F</td>\n",
       "      <td>47.0</td>\n",
       "    </tr>\n",
       "    <tr>\n",
       "      <th>741</th>\n",
       "      <td>M</td>\n",
       "      <td>65.0</td>\n",
       "    </tr>\n",
       "  </tbody>\n",
       "</table>\n",
       "<p>742 rows × 2 columns</p>\n",
       "</div>"
      ],
      "text/plain": [
       "    Sex   Age\n",
       "0     M  35.0\n",
       "1     F  39.0\n",
       "2     F  58.0\n",
       "3     F  67.0\n",
       "4     F  48.0\n",
       "..   ..   ...\n",
       "737   M  55.0\n",
       "738   M  20.0\n",
       "739   F  61.0\n",
       "740   F  47.0\n",
       "741   M  65.0\n",
       "\n",
       "[742 rows x 2 columns]"
      ]
     },
     "execution_count": 40,
     "metadata": {},
     "output_type": "execute_result"
    }
   ],
   "source": [
    "df[[\"Sex\", \"Age\"]]"
   ]
  },
  {
   "cell_type": "markdown",
   "id": "914d476d",
   "metadata": {},
   "source": [
    "How many children were in the plane?"
   ]
  },
  {
   "cell_type": "code",
   "execution_count": 41,
   "id": "cf8e9cc2",
   "metadata": {
    "scrolled": true
   },
   "outputs": [
    {
     "data": {
      "text/plain": [
       "(16, 8)"
      ]
     },
     "execution_count": 41,
     "metadata": {},
     "output_type": "execute_result"
    }
   ],
   "source": [
    "df[df.Age < 18] #select passengers younger than 18\n",
    "df[df.Age < 18].shape #view the count of passengers younger than 18"
   ]
  },
  {
   "cell_type": "markdown",
   "id": "629244ca",
   "metadata": {},
   "source": [
    "Select passengers that are above 60 and male."
   ]
  },
  {
   "cell_type": "code",
   "execution_count": 42,
   "id": "543f639d",
   "metadata": {
    "scrolled": true
   },
   "outputs": [
    {
     "data": {
      "text/html": [
       "<div>\n",
       "<style scoped>\n",
       "    .dataframe tbody tr th:only-of-type {\n",
       "        vertical-align: middle;\n",
       "    }\n",
       "\n",
       "    .dataframe tbody tr th {\n",
       "        vertical-align: top;\n",
       "    }\n",
       "\n",
       "    .dataframe thead th {\n",
       "        text-align: right;\n",
       "    }\n",
       "</style>\n",
       "<table border=\"1\" class=\"dataframe\">\n",
       "  <thead>\n",
       "    <tr style=\"text-align: right;\">\n",
       "      <th></th>\n",
       "      <th>PassengerId</th>\n",
       "      <th>Country</th>\n",
       "      <th>Firstname</th>\n",
       "      <th>Lastname</th>\n",
       "      <th>Sex</th>\n",
       "      <th>Age</th>\n",
       "      <th>Category</th>\n",
       "      <th>Survived</th>\n",
       "    </tr>\n",
       "  </thead>\n",
       "  <tbody>\n",
       "    <tr>\n",
       "      <th>13</th>\n",
       "      <td>103</td>\n",
       "      <td>Sweden</td>\n",
       "      <td>GUNNAR LENNART</td>\n",
       "      <td>BYLUND</td>\n",
       "      <td>M</td>\n",
       "      <td>69.0</td>\n",
       "      <td>P</td>\n",
       "      <td>0</td>\n",
       "    </tr>\n",
       "    <tr>\n",
       "      <th>17</th>\n",
       "      <td>586</td>\n",
       "      <td>Sweden</td>\n",
       "      <td>LENNART</td>\n",
       "      <td>MOLLER</td>\n",
       "      <td>M</td>\n",
       "      <td>68.0</td>\n",
       "      <td>P</td>\n",
       "      <td>0</td>\n",
       "    </tr>\n",
       "    <tr>\n",
       "      <th>19</th>\n",
       "      <td>445</td>\n",
       "      <td>Finland</td>\n",
       "      <td>EINO OLAV</td>\n",
       "      <td>LAAMANEN</td>\n",
       "      <td>M</td>\n",
       "      <td>61.0</td>\n",
       "      <td>P</td>\n",
       "      <td>0</td>\n",
       "    </tr>\n",
       "    <tr>\n",
       "      <th>20</th>\n",
       "      <td>1</td>\n",
       "      <td>Sweden</td>\n",
       "      <td>ARVID KALLE</td>\n",
       "      <td>AADLI</td>\n",
       "      <td>M</td>\n",
       "      <td>62.0</td>\n",
       "      <td>P</td>\n",
       "      <td>0</td>\n",
       "    </tr>\n",
       "    <tr>\n",
       "      <th>52</th>\n",
       "      <td>621</td>\n",
       "      <td>Sweden</td>\n",
       "      <td>ERICH</td>\n",
       "      <td>NURMIS</td>\n",
       "      <td>M</td>\n",
       "      <td>71.0</td>\n",
       "      <td>P</td>\n",
       "      <td>0</td>\n",
       "    </tr>\n",
       "    <tr>\n",
       "      <th>...</th>\n",
       "      <td>...</td>\n",
       "      <td>...</td>\n",
       "      <td>...</td>\n",
       "      <td>...</td>\n",
       "      <td>...</td>\n",
       "      <td>...</td>\n",
       "      <td>...</td>\n",
       "      <td>...</td>\n",
       "    </tr>\n",
       "    <tr>\n",
       "      <th>690</th>\n",
       "      <td>109</td>\n",
       "      <td>Sweden</td>\n",
       "      <td>AKE HOLGER</td>\n",
       "      <td>CARLSSON</td>\n",
       "      <td>M</td>\n",
       "      <td>75.0</td>\n",
       "      <td>P</td>\n",
       "      <td>0</td>\n",
       "    </tr>\n",
       "    <tr>\n",
       "      <th>696</th>\n",
       "      <td>357</td>\n",
       "      <td>Sweden</td>\n",
       "      <td>KARL ERIK ELIAS</td>\n",
       "      <td>KARLSSON</td>\n",
       "      <td>M</td>\n",
       "      <td>68.0</td>\n",
       "      <td>P</td>\n",
       "      <td>0</td>\n",
       "    </tr>\n",
       "    <tr>\n",
       "      <th>711</th>\n",
       "      <td>581</td>\n",
       "      <td>Estonia</td>\n",
       "      <td>ELMAR</td>\n",
       "      <td>MANDLA</td>\n",
       "      <td>M</td>\n",
       "      <td>69.0</td>\n",
       "      <td>P</td>\n",
       "      <td>0</td>\n",
       "    </tr>\n",
       "    <tr>\n",
       "      <th>732</th>\n",
       "      <td>869</td>\n",
       "      <td>Sweden</td>\n",
       "      <td>GUSTAF LENNART</td>\n",
       "      <td>THODEN</td>\n",
       "      <td>M</td>\n",
       "      <td>71.0</td>\n",
       "      <td>P</td>\n",
       "      <td>0</td>\n",
       "    </tr>\n",
       "    <tr>\n",
       "      <th>741</th>\n",
       "      <td>741</td>\n",
       "      <td>Sweden</td>\n",
       "      <td>BERT REINESON</td>\n",
       "      <td>ROOS</td>\n",
       "      <td>M</td>\n",
       "      <td>65.0</td>\n",
       "      <td>P</td>\n",
       "      <td>1</td>\n",
       "    </tr>\n",
       "  </tbody>\n",
       "</table>\n",
       "<p>73 rows × 8 columns</p>\n",
       "</div>"
      ],
      "text/plain": [
       "     PassengerId  Country        Firstname  Lastname Sex   Age Category  \\\n",
       "13           103   Sweden   GUNNAR LENNART    BYLUND   M  69.0        P   \n",
       "17           586   Sweden          LENNART    MOLLER   M  68.0        P   \n",
       "19           445  Finland        EINO OLAV  LAAMANEN   M  61.0        P   \n",
       "20             1   Sweden      ARVID KALLE     AADLI   M  62.0        P   \n",
       "52           621   Sweden            ERICH    NURMIS   M  71.0        P   \n",
       "..           ...      ...              ...       ...  ..   ...      ...   \n",
       "690          109   Sweden       AKE HOLGER  CARLSSON   M  75.0        P   \n",
       "696          357   Sweden  KARL ERIK ELIAS  KARLSSON   M  68.0        P   \n",
       "711          581  Estonia            ELMAR    MANDLA   M  69.0        P   \n",
       "732          869   Sweden   GUSTAF LENNART    THODEN   M  71.0        P   \n",
       "741          741   Sweden    BERT REINESON      ROOS   M  65.0        P   \n",
       "\n",
       "     Survived  \n",
       "13          0  \n",
       "17          0  \n",
       "19          0  \n",
       "20          0  \n",
       "52          0  \n",
       "..        ...  \n",
       "690         0  \n",
       "696         0  \n",
       "711         0  \n",
       "732         0  \n",
       "741         1  \n",
       "\n",
       "[73 rows x 8 columns]"
      ]
     },
     "execution_count": 42,
     "metadata": {},
     "output_type": "execute_result"
    }
   ],
   "source": [
    "df[\n",
    "    (df.Age > 60) &\n",
    "    (df.Sex == 'M')\n",
    "]"
   ]
  },
  {
   "cell_type": "code",
   "execution_count": 43,
   "id": "ba823ae6",
   "metadata": {},
   "outputs": [
    {
     "data": {
      "text/html": [
       "<div>\n",
       "<style scoped>\n",
       "    .dataframe tbody tr th:only-of-type {\n",
       "        vertical-align: middle;\n",
       "    }\n",
       "\n",
       "    .dataframe tbody tr th {\n",
       "        vertical-align: top;\n",
       "    }\n",
       "\n",
       "    .dataframe thead th {\n",
       "        text-align: right;\n",
       "    }\n",
       "</style>\n",
       "<table border=\"1\" class=\"dataframe\">\n",
       "  <thead>\n",
       "    <tr style=\"text-align: right;\">\n",
       "      <th></th>\n",
       "      <th>PassengerId</th>\n",
       "      <th>Country</th>\n",
       "      <th>Firstname</th>\n",
       "      <th>Lastname</th>\n",
       "      <th>Sex</th>\n",
       "      <th>Age</th>\n",
       "      <th>Category</th>\n",
       "      <th>Survived</th>\n",
       "    </tr>\n",
       "  </thead>\n",
       "  <tbody>\n",
       "    <tr>\n",
       "      <th>13</th>\n",
       "      <td>103</td>\n",
       "      <td>Sweden</td>\n",
       "      <td>GUNNAR LENNART</td>\n",
       "      <td>BYLUND</td>\n",
       "      <td>M</td>\n",
       "      <td>69.0</td>\n",
       "      <td>P</td>\n",
       "      <td>0</td>\n",
       "    </tr>\n",
       "    <tr>\n",
       "      <th>17</th>\n",
       "      <td>586</td>\n",
       "      <td>Sweden</td>\n",
       "      <td>LENNART</td>\n",
       "      <td>MOLLER</td>\n",
       "      <td>M</td>\n",
       "      <td>68.0</td>\n",
       "      <td>P</td>\n",
       "      <td>0</td>\n",
       "    </tr>\n",
       "    <tr>\n",
       "      <th>19</th>\n",
       "      <td>445</td>\n",
       "      <td>Finland</td>\n",
       "      <td>EINO OLAV</td>\n",
       "      <td>LAAMANEN</td>\n",
       "      <td>M</td>\n",
       "      <td>61.0</td>\n",
       "      <td>P</td>\n",
       "      <td>0</td>\n",
       "    </tr>\n",
       "    <tr>\n",
       "      <th>20</th>\n",
       "      <td>1</td>\n",
       "      <td>Sweden</td>\n",
       "      <td>ARVID KALLE</td>\n",
       "      <td>AADLI</td>\n",
       "      <td>M</td>\n",
       "      <td>62.0</td>\n",
       "      <td>P</td>\n",
       "      <td>0</td>\n",
       "    </tr>\n",
       "    <tr>\n",
       "      <th>52</th>\n",
       "      <td>621</td>\n",
       "      <td>Sweden</td>\n",
       "      <td>ERICH</td>\n",
       "      <td>NURMIS</td>\n",
       "      <td>M</td>\n",
       "      <td>71.0</td>\n",
       "      <td>P</td>\n",
       "      <td>0</td>\n",
       "    </tr>\n",
       "    <tr>\n",
       "      <th>...</th>\n",
       "      <td>...</td>\n",
       "      <td>...</td>\n",
       "      <td>...</td>\n",
       "      <td>...</td>\n",
       "      <td>...</td>\n",
       "      <td>...</td>\n",
       "      <td>...</td>\n",
       "      <td>...</td>\n",
       "    </tr>\n",
       "    <tr>\n",
       "      <th>690</th>\n",
       "      <td>109</td>\n",
       "      <td>Sweden</td>\n",
       "      <td>AKE HOLGER</td>\n",
       "      <td>CARLSSON</td>\n",
       "      <td>M</td>\n",
       "      <td>75.0</td>\n",
       "      <td>P</td>\n",
       "      <td>0</td>\n",
       "    </tr>\n",
       "    <tr>\n",
       "      <th>696</th>\n",
       "      <td>357</td>\n",
       "      <td>Sweden</td>\n",
       "      <td>KARL ERIK ELIAS</td>\n",
       "      <td>KARLSSON</td>\n",
       "      <td>M</td>\n",
       "      <td>68.0</td>\n",
       "      <td>P</td>\n",
       "      <td>0</td>\n",
       "    </tr>\n",
       "    <tr>\n",
       "      <th>711</th>\n",
       "      <td>581</td>\n",
       "      <td>Estonia</td>\n",
       "      <td>ELMAR</td>\n",
       "      <td>MANDLA</td>\n",
       "      <td>M</td>\n",
       "      <td>69.0</td>\n",
       "      <td>P</td>\n",
       "      <td>0</td>\n",
       "    </tr>\n",
       "    <tr>\n",
       "      <th>732</th>\n",
       "      <td>869</td>\n",
       "      <td>Sweden</td>\n",
       "      <td>GUSTAF LENNART</td>\n",
       "      <td>THODEN</td>\n",
       "      <td>M</td>\n",
       "      <td>71.0</td>\n",
       "      <td>P</td>\n",
       "      <td>0</td>\n",
       "    </tr>\n",
       "    <tr>\n",
       "      <th>741</th>\n",
       "      <td>741</td>\n",
       "      <td>Sweden</td>\n",
       "      <td>BERT REINESON</td>\n",
       "      <td>ROOS</td>\n",
       "      <td>M</td>\n",
       "      <td>65.0</td>\n",
       "      <td>P</td>\n",
       "      <td>1</td>\n",
       "    </tr>\n",
       "  </tbody>\n",
       "</table>\n",
       "<p>73 rows × 8 columns</p>\n",
       "</div>"
      ],
      "text/plain": [
       "     PassengerId  Country        Firstname  Lastname Sex   Age Category  \\\n",
       "13           103   Sweden   GUNNAR LENNART    BYLUND   M  69.0        P   \n",
       "17           586   Sweden          LENNART    MOLLER   M  68.0        P   \n",
       "19           445  Finland        EINO OLAV  LAAMANEN   M  61.0        P   \n",
       "20             1   Sweden      ARVID KALLE     AADLI   M  62.0        P   \n",
       "52           621   Sweden            ERICH    NURMIS   M  71.0        P   \n",
       "..           ...      ...              ...       ...  ..   ...      ...   \n",
       "690          109   Sweden       AKE HOLGER  CARLSSON   M  75.0        P   \n",
       "696          357   Sweden  KARL ERIK ELIAS  KARLSSON   M  68.0        P   \n",
       "711          581  Estonia            ELMAR    MANDLA   M  69.0        P   \n",
       "732          869   Sweden   GUSTAF LENNART    THODEN   M  71.0        P   \n",
       "741          741   Sweden    BERT REINESON      ROOS   M  65.0        P   \n",
       "\n",
       "     Survived  \n",
       "13          0  \n",
       "17          0  \n",
       "19          0  \n",
       "20          0  \n",
       "52          0  \n",
       "..        ...  \n",
       "690         0  \n",
       "696         0  \n",
       "711         0  \n",
       "732         0  \n",
       "741         1  \n",
       "\n",
       "[73 rows x 8 columns]"
      ]
     },
     "execution_count": 43,
     "metadata": {},
     "output_type": "execute_result"
    }
   ],
   "source": [
    "df.loc[\n",
    "    (df.Age > 60) &\n",
    "    (df.Sex == 'M')\n",
    "]"
   ]
  },
  {
   "cell_type": "markdown",
   "id": "6f3f78e2",
   "metadata": {},
   "source": [
    "Select only the survived column for the passengers from the previous excercise."
   ]
  },
  {
   "cell_type": "code",
   "execution_count": 44,
   "id": "05ba564d",
   "metadata": {
    "scrolled": true
   },
   "outputs": [
    {
     "data": {
      "text/plain": [
       "13     0\n",
       "17     0\n",
       "19     0\n",
       "20     0\n",
       "52     0\n",
       "      ..\n",
       "690    0\n",
       "696    0\n",
       "711    0\n",
       "732    0\n",
       "741    1\n",
       "Name: Survived, Length: 73, dtype: int64"
      ]
     },
     "execution_count": 44,
     "metadata": {},
     "output_type": "execute_result"
    }
   ],
   "source": [
    "df[(df.Age > 60)&(df.Sex == 'M')]['Survived']"
   ]
  },
  {
   "cell_type": "code",
   "execution_count": 45,
   "id": "6e1efb16",
   "metadata": {},
   "outputs": [
    {
     "data": {
      "text/plain": [
       "13     0\n",
       "17     0\n",
       "19     0\n",
       "20     0\n",
       "52     0\n",
       "      ..\n",
       "690    0\n",
       "696    0\n",
       "711    0\n",
       "732    0\n",
       "741    1\n",
       "Name: Survived, Length: 73, dtype: int64"
      ]
     },
     "execution_count": 45,
     "metadata": {},
     "output_type": "execute_result"
    }
   ],
   "source": [
    "df.loc[(df.Age > 60)&(df.Sex == 'M'), 'Survived']"
   ]
  },
  {
   "cell_type": "markdown",
   "id": "8f7b25d3",
   "metadata": {},
   "source": [
    "How many females and how many males are in the data set?"
   ]
  },
  {
   "cell_type": "code",
   "execution_count": 46,
   "id": "76a6622f",
   "metadata": {},
   "outputs": [
    {
     "data": {
      "text/plain": [
       "Sex\n",
       "F    382\n",
       "M    360\n",
       "dtype: int64"
      ]
     },
     "execution_count": 46,
     "metadata": {},
     "output_type": "execute_result"
    }
   ],
   "source": [
    "df.groupby('Sex').size()"
   ]
  },
  {
   "cell_type": "code",
   "execution_count": 47,
   "id": "e835ed6d",
   "metadata": {},
   "outputs": [
    {
     "data": {
      "text/plain": [
       "F    382\n",
       "M    360\n",
       "Name: Sex, dtype: int64"
      ]
     },
     "execution_count": 47,
     "metadata": {},
     "output_type": "execute_result"
    }
   ],
   "source": [
    "df.Sex.value_counts()"
   ]
  },
  {
   "cell_type": "markdown",
   "id": "670b16b1",
   "metadata": {},
   "source": [
    "Show the entries for the first 2 rows of the dataset."
   ]
  },
  {
   "cell_type": "code",
   "execution_count": 48,
   "id": "bb658d41",
   "metadata": {},
   "outputs": [
    {
     "data": {
      "text/html": [
       "<div>\n",
       "<style scoped>\n",
       "    .dataframe tbody tr th:only-of-type {\n",
       "        vertical-align: middle;\n",
       "    }\n",
       "\n",
       "    .dataframe tbody tr th {\n",
       "        vertical-align: top;\n",
       "    }\n",
       "\n",
       "    .dataframe thead th {\n",
       "        text-align: right;\n",
       "    }\n",
       "</style>\n",
       "<table border=\"1\" class=\"dataframe\">\n",
       "  <thead>\n",
       "    <tr style=\"text-align: right;\">\n",
       "      <th></th>\n",
       "      <th>PassengerId</th>\n",
       "      <th>Country</th>\n",
       "      <th>Firstname</th>\n",
       "      <th>Lastname</th>\n",
       "      <th>Sex</th>\n",
       "      <th>Age</th>\n",
       "      <th>Category</th>\n",
       "      <th>Survived</th>\n",
       "    </tr>\n",
       "  </thead>\n",
       "  <tbody>\n",
       "    <tr>\n",
       "      <th>0</th>\n",
       "      <td>694</td>\n",
       "      <td>Estonia</td>\n",
       "      <td>MARGUS</td>\n",
       "      <td>PUKSPUU</td>\n",
       "      <td>M</td>\n",
       "      <td>35.0</td>\n",
       "      <td>P</td>\n",
       "      <td>0</td>\n",
       "    </tr>\n",
       "    <tr>\n",
       "      <th>1</th>\n",
       "      <td>596</td>\n",
       "      <td>Sweden</td>\n",
       "      <td>BRITT MARGARETA</td>\n",
       "      <td>NILSSON</td>\n",
       "      <td>F</td>\n",
       "      <td>39.0</td>\n",
       "      <td>P</td>\n",
       "      <td>0</td>\n",
       "    </tr>\n",
       "  </tbody>\n",
       "</table>\n",
       "</div>"
      ],
      "text/plain": [
       "   PassengerId  Country        Firstname Lastname Sex   Age Category  Survived\n",
       "0          694  Estonia           MARGUS  PUKSPUU   M  35.0        P         0\n",
       "1          596   Sweden  BRITT MARGARETA  NILSSON   F  39.0        P         0"
      ]
     },
     "execution_count": 48,
     "metadata": {},
     "output_type": "execute_result"
    }
   ],
   "source": [
    "df.head(2)"
   ]
  },
  {
   "cell_type": "code",
   "execution_count": 49,
   "id": "c12a3d4e",
   "metadata": {},
   "outputs": [
    {
     "data": {
      "text/html": [
       "<div>\n",
       "<style scoped>\n",
       "    .dataframe tbody tr th:only-of-type {\n",
       "        vertical-align: middle;\n",
       "    }\n",
       "\n",
       "    .dataframe tbody tr th {\n",
       "        vertical-align: top;\n",
       "    }\n",
       "\n",
       "    .dataframe thead th {\n",
       "        text-align: right;\n",
       "    }\n",
       "</style>\n",
       "<table border=\"1\" class=\"dataframe\">\n",
       "  <thead>\n",
       "    <tr style=\"text-align: right;\">\n",
       "      <th></th>\n",
       "      <th>PassengerId</th>\n",
       "      <th>Country</th>\n",
       "      <th>Firstname</th>\n",
       "      <th>Lastname</th>\n",
       "      <th>Sex</th>\n",
       "      <th>Age</th>\n",
       "      <th>Category</th>\n",
       "      <th>Survived</th>\n",
       "    </tr>\n",
       "  </thead>\n",
       "  <tbody>\n",
       "    <tr>\n",
       "      <th>0</th>\n",
       "      <td>694</td>\n",
       "      <td>Estonia</td>\n",
       "      <td>MARGUS</td>\n",
       "      <td>PUKSPUU</td>\n",
       "      <td>M</td>\n",
       "      <td>35.0</td>\n",
       "      <td>P</td>\n",
       "      <td>0</td>\n",
       "    </tr>\n",
       "    <tr>\n",
       "      <th>1</th>\n",
       "      <td>596</td>\n",
       "      <td>Sweden</td>\n",
       "      <td>BRITT MARGARETA</td>\n",
       "      <td>NILSSON</td>\n",
       "      <td>F</td>\n",
       "      <td>39.0</td>\n",
       "      <td>P</td>\n",
       "      <td>0</td>\n",
       "    </tr>\n",
       "  </tbody>\n",
       "</table>\n",
       "</div>"
      ],
      "text/plain": [
       "   PassengerId  Country        Firstname Lastname Sex   Age Category  Survived\n",
       "0          694  Estonia           MARGUS  PUKSPUU   M  35.0        P         0\n",
       "1          596   Sweden  BRITT MARGARETA  NILSSON   F  39.0        P         0"
      ]
     },
     "execution_count": 49,
     "metadata": {},
     "output_type": "execute_result"
    }
   ],
   "source": [
    "df.iloc[0:2,:]"
   ]
  },
  {
   "cell_type": "markdown",
   "id": "04545c2d",
   "metadata": {},
   "source": [
    "Which data types are there in this data set?"
   ]
  },
  {
   "cell_type": "code",
   "execution_count": 50,
   "id": "019174f0",
   "metadata": {},
   "outputs": [
    {
     "name": "stdout",
     "output_type": "stream",
     "text": [
      "<class 'pandas.core.frame.DataFrame'>\n",
      "RangeIndex: 742 entries, 0 to 741\n",
      "Data columns (total 8 columns):\n",
      " #   Column       Non-Null Count  Dtype  \n",
      "---  ------       --------------  -----  \n",
      " 0   PassengerId  742 non-null    int64  \n",
      " 1   Country      742 non-null    object \n",
      " 2   Firstname    742 non-null    object \n",
      " 3   Lastname     742 non-null    object \n",
      " 4   Sex          742 non-null    object \n",
      " 5   Age          705 non-null    float64\n",
      " 6   Category     742 non-null    object \n",
      " 7   Survived     742 non-null    int64  \n",
      "dtypes: float64(1), int64(2), object(5)\n",
      "memory usage: 46.5+ KB\n"
     ]
    }
   ],
   "source": [
    "df.info()"
   ]
  },
  {
   "cell_type": "markdown",
   "id": "7b0c0280",
   "metadata": {},
   "source": [
    "# Cleaning the data set."
   ]
  },
  {
   "cell_type": "markdown",
   "id": "83da8bf7",
   "metadata": {},
   "source": [
    "Which columns have a unique value for each entry?"
   ]
  },
  {
   "cell_type": "code",
   "execution_count": 51,
   "id": "0075c097",
   "metadata": {},
   "outputs": [
    {
     "data": {
      "text/plain": [
       "PassengerId    741\n",
       "Country         14\n",
       "Firstname      660\n",
       "Lastname       603\n",
       "Sex              2\n",
       "Age             78\n",
       "Category         2\n",
       "Survived         2\n",
       "dtype: int64"
      ]
     },
     "execution_count": 51,
     "metadata": {},
     "output_type": "execute_result"
    }
   ],
   "source": [
    "df.nunique()"
   ]
  },
  {
   "cell_type": "markdown",
   "id": "d6a24503",
   "metadata": {},
   "source": [
    "Delete the column that gives no information to the data set."
   ]
  },
  {
   "cell_type": "code",
   "execution_count": 52,
   "id": "47b4f34c",
   "metadata": {},
   "outputs": [
    {
     "data": {
      "text/html": [
       "<div>\n",
       "<style scoped>\n",
       "    .dataframe tbody tr th:only-of-type {\n",
       "        vertical-align: middle;\n",
       "    }\n",
       "\n",
       "    .dataframe tbody tr th {\n",
       "        vertical-align: top;\n",
       "    }\n",
       "\n",
       "    .dataframe thead th {\n",
       "        text-align: right;\n",
       "    }\n",
       "</style>\n",
       "<table border=\"1\" class=\"dataframe\">\n",
       "  <thead>\n",
       "    <tr style=\"text-align: right;\">\n",
       "      <th></th>\n",
       "      <th>Country</th>\n",
       "      <th>Firstname</th>\n",
       "      <th>Lastname</th>\n",
       "      <th>Sex</th>\n",
       "      <th>Age</th>\n",
       "      <th>Category</th>\n",
       "      <th>Survived</th>\n",
       "    </tr>\n",
       "  </thead>\n",
       "  <tbody>\n",
       "    <tr>\n",
       "      <th>0</th>\n",
       "      <td>Estonia</td>\n",
       "      <td>MARGUS</td>\n",
       "      <td>PUKSPUU</td>\n",
       "      <td>M</td>\n",
       "      <td>35.0</td>\n",
       "      <td>P</td>\n",
       "      <td>0</td>\n",
       "    </tr>\n",
       "    <tr>\n",
       "      <th>1</th>\n",
       "      <td>Sweden</td>\n",
       "      <td>BRITT MARGARETA</td>\n",
       "      <td>NILSSON</td>\n",
       "      <td>F</td>\n",
       "      <td>39.0</td>\n",
       "      <td>P</td>\n",
       "      <td>0</td>\n",
       "    </tr>\n",
       "    <tr>\n",
       "      <th>2</th>\n",
       "      <td>Estonia</td>\n",
       "      <td>IVI</td>\n",
       "      <td>MATSALU</td>\n",
       "      <td>F</td>\n",
       "      <td>58.0</td>\n",
       "      <td>P</td>\n",
       "      <td>0</td>\n",
       "    </tr>\n",
       "    <tr>\n",
       "      <th>3</th>\n",
       "      <td>Sweden</td>\n",
       "      <td>BIRGIT MARIA</td>\n",
       "      <td>JAKOBSSON</td>\n",
       "      <td>F</td>\n",
       "      <td>67.0</td>\n",
       "      <td>P</td>\n",
       "      <td>0</td>\n",
       "    </tr>\n",
       "    <tr>\n",
       "      <th>4</th>\n",
       "      <td>Estonia</td>\n",
       "      <td>SAIDYA</td>\n",
       "      <td>KIVILA</td>\n",
       "      <td>F</td>\n",
       "      <td>48.0</td>\n",
       "      <td>C</td>\n",
       "      <td>0</td>\n",
       "    </tr>\n",
       "  </tbody>\n",
       "</table>\n",
       "</div>"
      ],
      "text/plain": [
       "   Country        Firstname   Lastname Sex   Age Category  Survived\n",
       "0  Estonia           MARGUS    PUKSPUU   M  35.0        P         0\n",
       "1   Sweden  BRITT MARGARETA    NILSSON   F  39.0        P         0\n",
       "2  Estonia              IVI    MATSALU   F  58.0        P         0\n",
       "3   Sweden     BIRGIT MARIA  JAKOBSSON   F  67.0        P         0\n",
       "4  Estonia           SAIDYA     KIVILA   F  48.0        C         0"
      ]
     },
     "execution_count": 52,
     "metadata": {},
     "output_type": "execute_result"
    }
   ],
   "source": [
    "df.drop(('PassengerId'), axis=1, inplace=True)\n",
    "df.head()"
   ]
  },
  {
   "cell_type": "code",
   "execution_count": 53,
   "id": "97de15db",
   "metadata": {},
   "outputs": [],
   "source": [
    "#df = df.drop(['PassengerId'], axis = 1)"
   ]
  },
  {
   "cell_type": "markdown",
   "id": "a2dfc4a0",
   "metadata": {},
   "source": [
    "Check the set for missing data."
   ]
  },
  {
   "cell_type": "code",
   "execution_count": 54,
   "id": "4ed079b4",
   "metadata": {
    "scrolled": true
   },
   "outputs": [
    {
     "data": {
      "text/plain": [
       "Country       0\n",
       "Firstname     0\n",
       "Lastname      0\n",
       "Sex           0\n",
       "Age          37\n",
       "Category      0\n",
       "Survived      0\n",
       "dtype: int64"
      ]
     },
     "execution_count": 54,
     "metadata": {},
     "output_type": "execute_result"
    }
   ],
   "source": [
    "df.isna().sum()"
   ]
  },
  {
   "cell_type": "markdown",
   "id": "a43b5a5d",
   "metadata": {},
   "source": [
    "How will you solve the missing data problem?"
   ]
  },
  {
   "cell_type": "code",
   "execution_count": 55,
   "id": "67e69698",
   "metadata": {},
   "outputs": [],
   "source": [
    "df_tmp = df.copy()\n",
    "\n",
    "# insert mean value of age where this information is missing\n",
    "df_tmp.loc[df_tmp.Age.isna(),'Age'] = df_tmp.loc[:,'Age'].mean() \n"
   ]
  },
  {
   "cell_type": "markdown",
   "id": "374b6f13",
   "metadata": {},
   "source": [
    "Which atributes are important for this dataset? Transform important 'string' atributes to 'integers'. Which encoding methods will you use?"
   ]
  },
  {
   "cell_type": "code",
   "execution_count": 56,
   "id": "e4ea01cf",
   "metadata": {},
   "outputs": [],
   "source": [
    "from sklearn.preprocessing import OneHotEncoder, LabelEncoder"
   ]
  },
  {
   "cell_type": "code",
   "execution_count": 57,
   "id": "778e905b",
   "metadata": {},
   "outputs": [
    {
     "data": {
      "text/html": [
       "<div>\n",
       "<style scoped>\n",
       "    .dataframe tbody tr th:only-of-type {\n",
       "        vertical-align: middle;\n",
       "    }\n",
       "\n",
       "    .dataframe tbody tr th {\n",
       "        vertical-align: top;\n",
       "    }\n",
       "\n",
       "    .dataframe thead th {\n",
       "        text-align: right;\n",
       "    }\n",
       "</style>\n",
       "<table border=\"1\" class=\"dataframe\">\n",
       "  <thead>\n",
       "    <tr style=\"text-align: right;\">\n",
       "      <th></th>\n",
       "      <th>Country_Belarus</th>\n",
       "      <th>Country_Canada</th>\n",
       "      <th>Country_Denmark</th>\n",
       "      <th>Country_Estonia</th>\n",
       "      <th>Country_Finland</th>\n",
       "      <th>Country_France</th>\n",
       "      <th>Country_Germany</th>\n",
       "      <th>Country_Great Britain</th>\n",
       "      <th>Country_Latvia</th>\n",
       "      <th>Country_Lithuania</th>\n",
       "      <th>Country_Nigeria</th>\n",
       "      <th>Country_Norway</th>\n",
       "      <th>Country_Russia</th>\n",
       "      <th>Country_Sweden</th>\n",
       "    </tr>\n",
       "  </thead>\n",
       "  <tbody>\n",
       "    <tr>\n",
       "      <th>0</th>\n",
       "      <td>0.0</td>\n",
       "      <td>0.0</td>\n",
       "      <td>0.0</td>\n",
       "      <td>1.0</td>\n",
       "      <td>0.0</td>\n",
       "      <td>0.0</td>\n",
       "      <td>0.0</td>\n",
       "      <td>0.0</td>\n",
       "      <td>0.0</td>\n",
       "      <td>0.0</td>\n",
       "      <td>0.0</td>\n",
       "      <td>0.0</td>\n",
       "      <td>0.0</td>\n",
       "      <td>0.0</td>\n",
       "    </tr>\n",
       "    <tr>\n",
       "      <th>1</th>\n",
       "      <td>0.0</td>\n",
       "      <td>0.0</td>\n",
       "      <td>0.0</td>\n",
       "      <td>0.0</td>\n",
       "      <td>0.0</td>\n",
       "      <td>0.0</td>\n",
       "      <td>0.0</td>\n",
       "      <td>0.0</td>\n",
       "      <td>0.0</td>\n",
       "      <td>0.0</td>\n",
       "      <td>0.0</td>\n",
       "      <td>0.0</td>\n",
       "      <td>0.0</td>\n",
       "      <td>1.0</td>\n",
       "    </tr>\n",
       "    <tr>\n",
       "      <th>2</th>\n",
       "      <td>0.0</td>\n",
       "      <td>0.0</td>\n",
       "      <td>0.0</td>\n",
       "      <td>1.0</td>\n",
       "      <td>0.0</td>\n",
       "      <td>0.0</td>\n",
       "      <td>0.0</td>\n",
       "      <td>0.0</td>\n",
       "      <td>0.0</td>\n",
       "      <td>0.0</td>\n",
       "      <td>0.0</td>\n",
       "      <td>0.0</td>\n",
       "      <td>0.0</td>\n",
       "      <td>0.0</td>\n",
       "    </tr>\n",
       "    <tr>\n",
       "      <th>3</th>\n",
       "      <td>0.0</td>\n",
       "      <td>0.0</td>\n",
       "      <td>0.0</td>\n",
       "      <td>0.0</td>\n",
       "      <td>0.0</td>\n",
       "      <td>0.0</td>\n",
       "      <td>0.0</td>\n",
       "      <td>0.0</td>\n",
       "      <td>0.0</td>\n",
       "      <td>0.0</td>\n",
       "      <td>0.0</td>\n",
       "      <td>0.0</td>\n",
       "      <td>0.0</td>\n",
       "      <td>1.0</td>\n",
       "    </tr>\n",
       "    <tr>\n",
       "      <th>4</th>\n",
       "      <td>0.0</td>\n",
       "      <td>0.0</td>\n",
       "      <td>0.0</td>\n",
       "      <td>1.0</td>\n",
       "      <td>0.0</td>\n",
       "      <td>0.0</td>\n",
       "      <td>0.0</td>\n",
       "      <td>0.0</td>\n",
       "      <td>0.0</td>\n",
       "      <td>0.0</td>\n",
       "      <td>0.0</td>\n",
       "      <td>0.0</td>\n",
       "      <td>0.0</td>\n",
       "      <td>0.0</td>\n",
       "    </tr>\n",
       "    <tr>\n",
       "      <th>...</th>\n",
       "      <td>...</td>\n",
       "      <td>...</td>\n",
       "      <td>...</td>\n",
       "      <td>...</td>\n",
       "      <td>...</td>\n",
       "      <td>...</td>\n",
       "      <td>...</td>\n",
       "      <td>...</td>\n",
       "      <td>...</td>\n",
       "      <td>...</td>\n",
       "      <td>...</td>\n",
       "      <td>...</td>\n",
       "      <td>...</td>\n",
       "      <td>...</td>\n",
       "    </tr>\n",
       "    <tr>\n",
       "      <th>737</th>\n",
       "      <td>0.0</td>\n",
       "      <td>0.0</td>\n",
       "      <td>0.0</td>\n",
       "      <td>0.0</td>\n",
       "      <td>0.0</td>\n",
       "      <td>0.0</td>\n",
       "      <td>0.0</td>\n",
       "      <td>0.0</td>\n",
       "      <td>0.0</td>\n",
       "      <td>0.0</td>\n",
       "      <td>0.0</td>\n",
       "      <td>0.0</td>\n",
       "      <td>0.0</td>\n",
       "      <td>1.0</td>\n",
       "    </tr>\n",
       "    <tr>\n",
       "      <th>738</th>\n",
       "      <td>0.0</td>\n",
       "      <td>0.0</td>\n",
       "      <td>0.0</td>\n",
       "      <td>1.0</td>\n",
       "      <td>0.0</td>\n",
       "      <td>0.0</td>\n",
       "      <td>0.0</td>\n",
       "      <td>0.0</td>\n",
       "      <td>0.0</td>\n",
       "      <td>0.0</td>\n",
       "      <td>0.0</td>\n",
       "      <td>0.0</td>\n",
       "      <td>0.0</td>\n",
       "      <td>0.0</td>\n",
       "    </tr>\n",
       "    <tr>\n",
       "      <th>739</th>\n",
       "      <td>0.0</td>\n",
       "      <td>0.0</td>\n",
       "      <td>0.0</td>\n",
       "      <td>0.0</td>\n",
       "      <td>0.0</td>\n",
       "      <td>0.0</td>\n",
       "      <td>0.0</td>\n",
       "      <td>0.0</td>\n",
       "      <td>0.0</td>\n",
       "      <td>0.0</td>\n",
       "      <td>0.0</td>\n",
       "      <td>0.0</td>\n",
       "      <td>0.0</td>\n",
       "      <td>1.0</td>\n",
       "    </tr>\n",
       "    <tr>\n",
       "      <th>740</th>\n",
       "      <td>0.0</td>\n",
       "      <td>0.0</td>\n",
       "      <td>0.0</td>\n",
       "      <td>0.0</td>\n",
       "      <td>0.0</td>\n",
       "      <td>0.0</td>\n",
       "      <td>0.0</td>\n",
       "      <td>0.0</td>\n",
       "      <td>0.0</td>\n",
       "      <td>0.0</td>\n",
       "      <td>0.0</td>\n",
       "      <td>0.0</td>\n",
       "      <td>0.0</td>\n",
       "      <td>1.0</td>\n",
       "    </tr>\n",
       "    <tr>\n",
       "      <th>741</th>\n",
       "      <td>0.0</td>\n",
       "      <td>0.0</td>\n",
       "      <td>0.0</td>\n",
       "      <td>0.0</td>\n",
       "      <td>0.0</td>\n",
       "      <td>0.0</td>\n",
       "      <td>0.0</td>\n",
       "      <td>0.0</td>\n",
       "      <td>0.0</td>\n",
       "      <td>0.0</td>\n",
       "      <td>0.0</td>\n",
       "      <td>0.0</td>\n",
       "      <td>0.0</td>\n",
       "      <td>1.0</td>\n",
       "    </tr>\n",
       "  </tbody>\n",
       "</table>\n",
       "<p>742 rows × 14 columns</p>\n",
       "</div>"
      ],
      "text/plain": [
       "     Country_Belarus  Country_Canada  Country_Denmark  Country_Estonia  \\\n",
       "0                0.0             0.0              0.0              1.0   \n",
       "1                0.0             0.0              0.0              0.0   \n",
       "2                0.0             0.0              0.0              1.0   \n",
       "3                0.0             0.0              0.0              0.0   \n",
       "4                0.0             0.0              0.0              1.0   \n",
       "..               ...             ...              ...              ...   \n",
       "737              0.0             0.0              0.0              0.0   \n",
       "738              0.0             0.0              0.0              1.0   \n",
       "739              0.0             0.0              0.0              0.0   \n",
       "740              0.0             0.0              0.0              0.0   \n",
       "741              0.0             0.0              0.0              0.0   \n",
       "\n",
       "     Country_Finland  Country_France  Country_Germany  Country_Great Britain  \\\n",
       "0                0.0             0.0              0.0                    0.0   \n",
       "1                0.0             0.0              0.0                    0.0   \n",
       "2                0.0             0.0              0.0                    0.0   \n",
       "3                0.0             0.0              0.0                    0.0   \n",
       "4                0.0             0.0              0.0                    0.0   \n",
       "..               ...             ...              ...                    ...   \n",
       "737              0.0             0.0              0.0                    0.0   \n",
       "738              0.0             0.0              0.0                    0.0   \n",
       "739              0.0             0.0              0.0                    0.0   \n",
       "740              0.0             0.0              0.0                    0.0   \n",
       "741              0.0             0.0              0.0                    0.0   \n",
       "\n",
       "     Country_Latvia  Country_Lithuania  Country_Nigeria  Country_Norway  \\\n",
       "0               0.0                0.0              0.0             0.0   \n",
       "1               0.0                0.0              0.0             0.0   \n",
       "2               0.0                0.0              0.0             0.0   \n",
       "3               0.0                0.0              0.0             0.0   \n",
       "4               0.0                0.0              0.0             0.0   \n",
       "..              ...                ...              ...             ...   \n",
       "737             0.0                0.0              0.0             0.0   \n",
       "738             0.0                0.0              0.0             0.0   \n",
       "739             0.0                0.0              0.0             0.0   \n",
       "740             0.0                0.0              0.0             0.0   \n",
       "741             0.0                0.0              0.0             0.0   \n",
       "\n",
       "     Country_Russia  Country_Sweden  \n",
       "0               0.0             0.0  \n",
       "1               0.0             1.0  \n",
       "2               0.0             0.0  \n",
       "3               0.0             1.0  \n",
       "4               0.0             0.0  \n",
       "..              ...             ...  \n",
       "737             0.0             1.0  \n",
       "738             0.0             0.0  \n",
       "739             0.0             1.0  \n",
       "740             0.0             1.0  \n",
       "741             0.0             1.0  \n",
       "\n",
       "[742 rows x 14 columns]"
      ]
     },
     "execution_count": 57,
     "metadata": {},
     "output_type": "execute_result"
    }
   ],
   "source": [
    "# we define the encoder\n",
    "encoder = OneHotEncoder(handle_unknown=\"ignore\")\n",
    "encoder.fit(df[['Country']])\n",
    "# we transform the data\n",
    "df_tmp = encoder.transform(df[['Country']])\n",
    "df_tmp = pd.DataFrame(df_tmp.toarray(), columns=encoder.get_feature_names_out(['Country']))\n",
    "df_tmp"
   ]
  },
  {
   "cell_type": "code",
   "execution_count": 58,
   "id": "669b1eb0",
   "metadata": {},
   "outputs": [],
   "source": [
    "from sklearn.preprocessing  import LabelEncoder\n",
    "\n",
    "le = LabelEncoder()\n",
    "\n",
    "df[\"Sex\"] = le.fit_transform(df.Sex)\n",
    "df[\"Category\"] = le.fit_transform(df.Category)\n",
    "df[\"Country\"] = le.fit_transform(df.Country)"
   ]
  },
  {
   "cell_type": "markdown",
   "id": "b36ae980",
   "metadata": {},
   "source": [
    "Extra: how would you encode 'Age'?"
   ]
  },
  {
   "cell_type": "code",
   "execution_count": 59,
   "id": "72877cdf",
   "metadata": {},
   "outputs": [],
   "source": [
    "df\n",
    "df.loc[df.Age<18, \"AgeBin\"] = \"Children\"\n",
    "df.loc[(df.Age>=18) & (df.Age<35), \"AgeBin\"] = \"Young Adult\"\n",
    "df.loc[(df.Age>=35) & (df.Age<68), \"AgeBin\"] = \"Adult\"\n",
    "df.loc[df.Age>68, \"AgeBin\"] = \"Elder\""
   ]
  },
  {
   "cell_type": "markdown",
   "id": "c28252aa",
   "metadata": {},
   "source": [
    "Find outliers in 'Age'."
   ]
  },
  {
   "cell_type": "code",
   "execution_count": 60,
   "id": "e71024c4",
   "metadata": {},
   "outputs": [],
   "source": [
    "import matplotlib.pyplot as plt"
   ]
  },
  {
   "cell_type": "code",
   "execution_count": 61,
   "id": "2b21768a",
   "metadata": {},
   "outputs": [
    {
     "data": {
      "text/plain": [
       "{'whiskers': [<matplotlib.lines.Line2D at 0x25beca5d890>,\n",
       "  <matplotlib.lines.Line2D at 0x25beca5e310>],\n",
       " 'caps': [<matplotlib.lines.Line2D at 0x25beca5ec10>,\n",
       "  <matplotlib.lines.Line2D at 0x25beca5f510>],\n",
       " 'boxes': [<matplotlib.lines.Line2D at 0x25beca5d050>],\n",
       " 'medians': [<matplotlib.lines.Line2D at 0x25beca5fe10>],\n",
       " 'fliers': [<matplotlib.lines.Line2D at 0x25beca48090>],\n",
       " 'means': []}"
      ]
     },
     "execution_count": 61,
     "metadata": {},
     "output_type": "execute_result"
    },
    {
     "data": {
      "image/png": "[encoded data removed]",
      "text/plain": [
       "<Figure size 640x480 with 1 Axes>"
      ]
     },
     "metadata": {},
     "output_type": "display_data"
    }
   ],
   "source": [
    "plt.boxplot(df.Age)"
   ]
  },
  {
   "cell_type": "markdown",
   "id": "ceb337ac",
   "metadata": {},
   "source": [
    "# Visualisation"
   ]
  },
  {
   "cell_type": "code",
   "execution_count": 62,
   "id": "2b328292",
   "metadata": {},
   "outputs": [],
   "source": [
    "import matplotlib.pyplot as plt\n",
    "import seaborn as sns"
   ]
  },
  {
   "cell_type": "markdown",
   "id": "ecc02504",
   "metadata": {},
   "source": [
    "Plot the distribuiton of the age of the passengers."
   ]
  },
  {
   "cell_type": "code",
   "execution_count": 63,
   "id": "e3679c6a",
   "metadata": {},
   "outputs": [
    {
     "data": {
      "image/png": "[encoded data removed]",
      "text/plain": [
       "<Figure size 640x480 with 1 Axes>"
      ]
     },
     "metadata": {},
     "output_type": "display_data"
    }
   ],
   "source": [
    "plt.hist(df.Age, bins=100)\n",
    "plt.show()"
   ]
  },
  {
   "cell_type": "markdown",
   "id": "06a4249d",
   "metadata": {},
   "source": [
    "Show the mean and median of the age distribution."
   ]
  },
  {
   "cell_type": "code",
   "execution_count": 64,
   "id": "2d032a15",
   "metadata": {},
   "outputs": [
    {
     "data": {
      "image/png": "[encoded data removed]",
      "text/plain": [
       "<Figure size 640x480 with 1 Axes>"
      ]
     },
     "metadata": {},
     "output_type": "display_data"
    }
   ],
   "source": [
    "plt.hist(df.Age, bins=30)\n",
    "plt.axvline(df.Age.mean(), color = 'red', label = \"mean\")\n",
    "plt.axvline(df.Age.median(), color = 'green', label = \"median\")\n",
    "plt.xlabel('Age')\n",
    "plt.legend()\n",
    "plt.show()"
   ]
  },
  {
   "cell_type": "markdown",
   "id": "7e3959b9",
   "metadata": {},
   "source": [
    "Plot the distribution of age of the persons who survived or not."
   ]
  },
  {
   "cell_type": "code",
   "execution_count": 65,
   "id": "8e342d8a",
   "metadata": {},
   "outputs": [
    {
     "data": {
      "image/png": "[encoded data removed]",
      "text/plain": [
       "<Figure size 640x480 with 1 Axes>"
      ]
     },
     "metadata": {},
     "output_type": "display_data"
    }
   ],
   "source": [
    "plt.hist(df[df.Survived == 1].Age, bins=30, range=(0,100), label='Survived', color='green', alpha=0.3)\n",
    "plt.hist(df[df.Survived == 0].Age, bins=30, range=(0,100), label='Died', color='blue', alpha=0.3)\n",
    "plt.legend(loc='best')\n",
    "plt.grid()\n",
    "plt.show()"
   ]
  },
  {
   "cell_type": "markdown",
   "id": "1e7e063f",
   "metadata": {},
   "source": [
    "Plot the percentage of the countries of origin. Show the names of countries and the percentages."
   ]
  },
  {
   "cell_type": "code",
   "execution_count": 76,
   "id": "18871eb0",
   "metadata": {},
   "outputs": [
    {
     "data": {
      "image/png": "[encoded data removed]",
      "text/plain": [
       "<Figure size 640x480 with 1 Axes>"
      ]
     },
     "metadata": {},
     "output_type": "display_data"
    }
   ],
   "source": [
    "count_per_title = df.groupby('Country').count().loc[:,'Lastname'].values\n",
    "country_name = df.groupby('Country').count().index.values\n",
    "percent = (count_per_title/len(df))*100\n",
    "\n",
    "plt.pie(percent, labels=country_name, autopct='%.2f')\n",
    "plt.show()"
   ]
  },
  {
   "cell_type": "markdown",
   "id": "deb5cedf",
   "metadata": {},
   "source": [
    "Is there a better way to plot the data about the countries of origin?"
   ]
  },
  {
   "cell_type": "code",
   "execution_count": 77,
   "id": "288b7ef6",
   "metadata": {},
   "outputs": [
    {
     "data": {
      "image/png": "[encoded data removed]",
      "text/plain": [
       "<Figure size 640x480 with 1 Axes>"
      ]
     },
     "metadata": {},
     "output_type": "display_data"
    }
   ],
   "source": [
    "plt.bar(country_name, count_per_title)\n",
    "plt.xticks(rotation=90)\n",
    "plt.show()"
   ]
  },
  {
   "cell_type": "code",
   "execution_count": 68,
   "id": "4f2bac6f",
   "metadata": {},
   "outputs": [],
   "source": [
    "X_tmp = df.copy()\n",
    "sorted_age = X_tmp.sort_values(by=['Age']).Age.values[:30]\n",
    "names = X_tmp.sort_values(by=['Age']).Firstname.values[:30]"
   ]
  },
  {
   "cell_type": "code",
   "execution_count": 69,
   "id": "d7d116ff",
   "metadata": {},
   "outputs": [
    {
     "data": {
      "image/png": "[encoded data removed]",
      "text/plain": [
       "<Figure size 640x480 with 1 Axes>"
      ]
     },
     "metadata": {},
     "output_type": "display_data"
    }
   ],
   "source": [
    "plt.plot(names, sorted_age, c='b', linestyle='-.')\n",
    "plt.plot(names, sorted_age, c='r', ds='steps')\n",
    "plt.xticks(rotation=90)\n",
    "plt.show()"
   ]
  },
  {
   "cell_type": "code",
   "execution_count": null,
   "id": "f227d111",
   "metadata": {},
   "outputs": [],
   "source": []
  }
 ],
 "metadata": {
  "kernelspec": {
   "display_name": "Python 3 (ipykernel)",
   "language": "python",
   "name": "python3"
  },
  "language_info": {
   "codemirror_mode": {
    "name": "ipython",
    "version": 3
   },
   "file_extension": ".py",
   "mimetype": "text/x-python",
   "name": "python",
   "nbconvert_exporter": "python",
   "pygments_lexer": "ipython3",
   "version": "3.11.5"
  }
 },
 "nbformat": 4,
 "nbformat_minor": 5
}
